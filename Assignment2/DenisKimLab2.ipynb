{
 "cells": [
  {
   "cell_type": "code",
   "execution_count": 14,
   "metadata": {},
   "outputs": [
    {
     "name": "stdout",
     "output_type": "stream",
     "text": [
      "initial values: W:  [0.0819626  0.3902728  0.50168697] y:  1\n",
      "W:  [0.02464581 0.33295602 0.44437018] y:  1\n",
      "W:  [-0.03267097  0.27563923  0.3870534 ] y:  1\n",
      "W:  [-0.08998776  0.21832245  0.32973661] y:  1\n",
      "W:  [-0.14730454  0.16100567  0.27241983] y:  1\n",
      "W:  [-0.20462133  0.10368888  0.21510304] y:  1\n",
      "W:  [-0.26193811  0.0463721   0.15778626] y:  1\n",
      "W:  [-0.26193811  0.0463721   0.15778626] y:  0\n"
     ]
    }
   ],
   "source": [
    "import numpy as np\n",
    "\n",
    "t = 0\n",
    "X = np.array([1,0,1])\n",
    "b = np.random.uniform(0, 0.2)\n",
    "W = np.random.uniform(-1, 1, [3])\n",
    "e = np.random.uniform(0.0001, 0.1)\n",
    "y = 1\n",
    "print('initial values: W: ', W, 'y: ', y)\n",
    "while(y != t):\n",
    "    z = np.dot(W, X) + b\n",
    "    if z >= 0:\n",
    "        y = 1\n",
    "    else: \n",
    "        y = 0\n",
    "    if y < t:\n",
    "        W = W + e\n",
    "    elif y > t:\n",
    "        W = W - e\n",
    "    print('W: ', W, 'y: ', y)"
   ]
  },
  {
   "cell_type": "code",
   "execution_count": null,
   "metadata": {},
   "outputs": [],
   "source": []
  }
 ],
 "metadata": {
  "kernelspec": {
   "display_name": "Python 3",
   "language": "python",
   "name": "python3"
  },
  "language_info": {
   "codemirror_mode": {
    "name": "ipython",
    "version": 3
   },
   "file_extension": ".py",
   "mimetype": "text/x-python",
   "name": "python",
   "nbconvert_exporter": "python",
   "pygments_lexer": "ipython3",
   "version": "3.7.4"
  }
 },
 "nbformat": 4,
 "nbformat_minor": 2
}
