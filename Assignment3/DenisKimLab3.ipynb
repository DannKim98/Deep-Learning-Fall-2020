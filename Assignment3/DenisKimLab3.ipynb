{
 "cells": [
  {
   "cell_type": "code",
   "execution_count": 9,
   "metadata": {},
   "outputs": [
    {
     "name": "stdout",
     "output_type": "stream",
     "text": [
      "for input [0,0], y = 0\n",
      "for input [0,1], y = 1\n",
      "for input [1,0], y = 1\n",
      "for input [1,1], y = 0\n"
     ]
    }
   ],
   "source": [
    "import numpy as np\n",
    "\n",
    "# Adjacency matrix \n",
    "matrix = np.array([[0,0,0,1,1,0,0],      #x1\n",
    "                  [0,0,0,1,1,0,0],       #x2\n",
    "                  [0,0,0,-0.5,-1.5,0,0], #b1\n",
    "                  [0,0,0,0,0,0,1],       #h1\n",
    "                  [0,0,0,0,0,0,-1],      #h2\n",
    "                  [0,0,0,0,0,0,-0.5],    #b2\n",
    "                  [0,0,0,0,0,0,0]])      #y\n",
    "\n",
    "#[x1, x2, b1, h1, h2, b2, y]\n",
    "#h1, h2, y are initialized as 1 but will be updated in a process\n",
    "vector1 = np.array([0,0,1,1,1,1,1])\n",
    "vector2 = np.array([0,1,1,1,1,1,1])\n",
    "vector3 = np.array([1,0,1,1,1,1,1])\n",
    "vector4 = np.array([1,1,1,1,1,1,1])\n",
    "\n",
    "def computeY(vector):\n",
    "    if(np.dot(vector, matrix.transpose()[3]) >= 0):\n",
    "        vector[3] = 1\n",
    "    else:\n",
    "        vector[3] = 0\n",
    "    if(np.dot(vector, matrix.transpose()[4]) >= 0):\n",
    "        vector[4] = 1\n",
    "    else:\n",
    "        vector[4] = 0\n",
    "    if(np.dot(vector, matrix.transpose()[6]) >= 0):\n",
    "        vector[6] = 1\n",
    "    else:\n",
    "        vector[6] = 0\n",
    "    return vector[6]\n",
    "\n",
    "print('for input [0,0], y =', computeY(vector1))\n",
    "print('for input [0,1], y =', computeY(vector2))\n",
    "print('for input [1,0], y =', computeY(vector3))\n",
    "print('for input [1,1], y =', computeY(vector4))"
   ]
  },
  {
   "cell_type": "code",
   "execution_count": null,
   "metadata": {},
   "outputs": [],
   "source": []
  }
 ],
 "metadata": {
  "kernelspec": {
   "display_name": "Python 3",
   "language": "python",
   "name": "python3"
  },
  "language_info": {
   "codemirror_mode": {
    "name": "ipython",
    "version": 3
   },
   "file_extension": ".py",
   "mimetype": "text/x-python",
   "name": "python",
   "nbconvert_exporter": "python",
   "pygments_lexer": "ipython3",
   "version": "3.7.4"
  }
 },
 "nbformat": 4,
 "nbformat_minor": 2
}
