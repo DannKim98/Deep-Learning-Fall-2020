{
 "cells": [
  {
   "cell_type": "code",
   "execution_count": 2,
   "metadata": {},
   "outputs": [],
   "source": [
    "import numpy as np\n",
    "from PIL import Image"
   ]
  },
  {
   "cell_type": "code",
   "execution_count": 3,
   "metadata": {},
   "outputs": [],
   "source": [
    "lena = Image.open('lena.png')"
   ]
  },
  {
   "cell_type": "code",
   "execution_count": 105,
   "metadata": {},
   "outputs": [],
   "source": [
    "def shift_to_right(img, num_pixels):\n",
    "    shifted_img = np.zeros_like(img)\n",
    "    for i in range(img.shape[0]):\n",
    "        for j in range(num_pixels, img.shape[1]):\n",
    "            shifted_img[i][j] = img[i][j-num_pixels]\n",
    "    return shifted_img"
   ]
  },
  {
   "cell_type": "code",
   "execution_count": 55,
   "metadata": {},
   "outputs": [],
   "source": [
    "def rotate_by_90(img):\n",
    "    rotated_img = np.zeros_like(img)\n",
    "    for i in range(img.shape[0]):\n",
    "        for j in range(img.shape[1]):\n",
    "            rotated_img[i][j] = img[img.shape[0]-1-j][i]\n",
    "    return rotated_img"
   ]
  },
  {
   "cell_type": "code",
   "execution_count": 56,
   "metadata": {},
   "outputs": [],
   "source": [
    "def rotate_by_180(img):\n",
    "    rotated_img = np.zeros_like(img)\n",
    "    for i in range(img.shape[0]):\n",
    "        rotated_img[i] = img[img.shape[0]-1-i]\n",
    "    return rotated_img"
   ]
  },
  {
   "cell_type": "code",
   "execution_count": 60,
   "metadata": {},
   "outputs": [],
   "source": [
    "def rotate_by_270(img):\n",
    "    rotated_img = np.zeros_like(img)\n",
    "    for i in range(img.shape[0]):\n",
    "        for j in range(img.shape[1]):\n",
    "            rotated_img[i][j] = img[j][img.shape[1]-1-i]\n",
    "    return rotated_img"
   ]
  },
  {
   "cell_type": "code",
   "execution_count": 67,
   "metadata": {},
   "outputs": [],
   "source": [
    "def flip_vertically(img):\n",
    "    flipped_img = np.zeros_like(img)\n",
    "    for j in range(img.shape[1]):\n",
    "        flipped_img[:,j] = img[:,img.shape[1]-1-j]\n",
    "    return flipped_img"
   ]
  },
  {
   "cell_type": "code",
   "execution_count": 86,
   "metadata": {},
   "outputs": [],
   "source": [
    "def remove_rec(img):\n",
    "    removed_img = np.copy(img)\n",
    "    rand_start = np.random.randint(350, size=1)[0]\n",
    "    for i in range(rand_start, rand_start+162):\n",
    "        for j in range(rand_start, rand_start+162):\n",
    "            removed_img[i][j] = [0,0,0]\n",
    "    return removed_img"
   ]
  },
  {
   "cell_type": "code",
   "execution_count": 110,
   "metadata": {},
   "outputs": [],
   "source": [
    "image = np.array(lena)\n",
    "shifted_image = shift_to_right(image, 100)\n",
    "shifted_image = Image.fromarray(shifted_image)\n",
    "shifted_image.show()"
   ]
  },
  {
   "cell_type": "code",
   "execution_count": 112,
   "metadata": {},
   "outputs": [],
   "source": [
    "rotated_image_by_90 = rotate_by_90(image)\n",
    "rotated_image_by_90 = Image.fromarray(rotated_image_by_90)\n",
    "rotated_image_by_90.show()"
   ]
  },
  {
   "cell_type": "code",
   "execution_count": 113,
   "metadata": {},
   "outputs": [],
   "source": [
    "rotated_image_by_180 = rotate_by_180(image)\n",
    "rotated_image_by_180 = Image.fromarray(rotated_image_by_180)\n",
    "rotated_image_by_180.show()"
   ]
  },
  {
   "cell_type": "code",
   "execution_count": 114,
   "metadata": {},
   "outputs": [],
   "source": [
    "rotated_image_by_270 = rotate_by_270(image)\n",
    "rotated_image_by_270 = Image.fromarray(rotated_image_by_270)\n",
    "rotated_image_by_270.show()"
   ]
  },
  {
   "cell_type": "code",
   "execution_count": 115,
   "metadata": {},
   "outputs": [],
   "source": [
    "flipped_image = flip_vertically(image)\n",
    "flipped_image = Image.fromarray(flipped_image)\n",
    "flipped_image.show()"
   ]
  },
  {
   "cell_type": "code",
   "execution_count": 116,
   "metadata": {},
   "outputs": [],
   "source": [
    "removed_image = remove_rec(image)\n",
    "removed_image = Image.fromarray(removed_image)\n",
    "removed_image.show()"
   ]
  },
  {
   "cell_type": "code",
   "execution_count": 109,
   "metadata": {},
   "outputs": [],
   "source": [
    "shifted_image.save('lena_shifted_to_right_by_100.jpg')\n",
    "rotated_image_by_90.save('lena_rotated_clockwise_by_90.jpg')\n",
    "rotated_image_by_180.save('lena_rotated_clockwise_by_180.jpg')\n",
    "rotated_image_by_270.save('lena_rotated_clockwise_by_270.jpg')\n",
    "flipped_image.save('lena_flipped_vertically.jpg')\n",
    "removed_image.save('lena_with_removed_rec.jpg')"
   ]
  },
  {
   "cell_type": "code",
   "execution_count": null,
   "metadata": {},
   "outputs": [],
   "source": []
  }
 ],
 "metadata": {
  "kernelspec": {
   "display_name": "Python 3",
   "language": "python",
   "name": "python3"
  },
  "language_info": {
   "codemirror_mode": {
    "name": "ipython",
    "version": 3
   },
   "file_extension": ".py",
   "mimetype": "text/x-python",
   "name": "python",
   "nbconvert_exporter": "python",
   "pygments_lexer": "ipython3",
   "version": "3.7.4"
  }
 },
 "nbformat": 4,
 "nbformat_minor": 2
}
